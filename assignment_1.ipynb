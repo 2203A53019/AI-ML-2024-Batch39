{
  "nbformat": 4,
  "nbformat_minor": 0,
  "metadata": {
    "colab": {
      "provenance": []
    },
    "kernelspec": {
      "name": "python3",
      "display_name": "Python 3"
    },
    "language_info": {
      "name": "python"
    }
  },
  "cells": [
    {
      "cell_type": "code",
      "execution_count": null,
      "metadata": {
        "colab": {
          "base_uri": "https://localhost:8080/"
        },
        "id": "KmAMF0efievp",
        "outputId": "d38bd277-1ee7-480b-910c-d372d2a6c87d"
      },
      "outputs": [
        {
          "output_type": "stream",
          "name": "stdout",
          "text": [
            "list- [1, 2, 3]\n",
            "array- [1 2 3]\n"
          ]
        }
      ],
      "source": [
        "import numpy as np\n",
        "list1=[1,2,3]\n",
        "array1=np.array(list1)\n",
        "print(\"list-\",list1)\n",
        "print(\"array-\",array1)\n",
        "\n"
      ]
    },
    {
      "cell_type": "code",
      "source": [],
      "metadata": {
        "id": "1hMxuSqQyYwo"
      },
      "execution_count": null,
      "outputs": []
    },
    {
      "cell_type": "code",
      "source": [
        "import numpy as np\n",
        "list1=[1,2,3]\n",
        "array1=np.array(list1)\n",
        "print(\"list-\",list1)\n",
        "print(\"array-\",array1)\n",
        "type(list1)\n",
        "type(array1)\n"
      ],
      "metadata": {
        "colab": {
          "base_uri": "https://localhost:8080/"
        },
        "id": "BEIy4P2Xkgck",
        "outputId": "723f1de5-d63a-4f66-91bb-8f1573545c84"
      },
      "execution_count": null,
      "outputs": [
        {
          "output_type": "stream",
          "name": "stdout",
          "text": [
            "list- [1, 2, 3]\n",
            "array- [1 2 3]\n"
          ]
        },
        {
          "output_type": "execute_result",
          "data": {
            "text/plain": [
              "numpy.ndarray"
            ]
          },
          "metadata": {},
          "execution_count": 59
        }
      ]
    },
    {
      "cell_type": "code",
      "source": [
        "import numpy as np\n",
        "array1=np.array([10,20,30])\n",
        "array2=np.array([2,5,6])\n",
        "print(\"array2 multiplied by array1\",array1*array2)\n",
        "print(\"array2 multiplied by array1\",array1/array2)\n",
        "print(\"array2 raised by array1\",array2**array1)\n"
      ],
      "metadata": {
        "colab": {
          "base_uri": "https://localhost:8080/"
        },
        "id": "OmSrP1fokxQC",
        "outputId": "b0f55824-ad79-4972-fa79-a52bd5de18e3"
      },
      "execution_count": null,
      "outputs": [
        {
          "output_type": "stream",
          "name": "stdout",
          "text": [
            "array2 multiplied by array1 [ 20 100 180]\n",
            "array2 multiplied by array1 [5. 4. 5.]\n",
            "array2 raised by array1 [               1024      95367431640625 8138741398091333632]\n"
          ]
        }
      ]
    },
    {
      "cell_type": "code",
      "source": [
        "import numpy as np\n",
        "array1=np.array([10,20,30])\n",
        "array2=np.array([2,5,6])\n",
        "print(\"array2 multiplied by array1\",array1*array2)\n",
        "print(\"array2 multiplied by array1\",array1/array2)\n",
        "print(\"array2 raised by array1\",array2**array1)\n",
        "print(\"array add=\",array1+array2)"
      ],
      "metadata": {
        "colab": {
          "base_uri": "https://localhost:8080/"
        },
        "id": "fGv5jRHamTF1",
        "outputId": "0ada4c01-6057-43de-8a9e-e53e6a69dc61"
      },
      "execution_count": null,
      "outputs": [
        {
          "output_type": "stream",
          "name": "stdout",
          "text": [
            "array2 multiplied by array1 [ 20 100 180]\n",
            "array2 multiplied by array1 [5. 4. 5.]\n",
            "array2 raised by array1 [               1024      95367431640625 8138741398091333632]\n",
            "array add= [12 25 36]\n"
          ]
        }
      ]
    },
    {
      "cell_type": "code",
      "source": [
        "#programm 1_6\n",
        "import numpy as np\n",
        "array=np.array([10,20,30])\n",
        "#sine\n",
        "print(\"sine:\",np.sin(array1))\n",
        "#logarithm\n",
        "print(\"natural log:\",np.log(array1))\n",
        "print(\"base-10 log:\",np.log10(array1))\n",
        "print(\"base-2 log:\",np.log2(array1))\n",
        "#exponential\n",
        "print(\"exponential:\",np.exp(array1))"
      ],
      "metadata": {
        "colab": {
          "base_uri": "https://localhost:8080/"
        },
        "id": "LHKy61NomgQD",
        "outputId": "872e7807-37c8-4c10-f8b3-b8e07284a535"
      },
      "execution_count": null,
      "outputs": [
        {
          "output_type": "stream",
          "name": "stdout",
          "text": [
            "sine: [-0.54402111  0.91294525 -0.98803162]\n",
            "natural log: [2.30258509 2.99573227 3.40119738]\n",
            "base-10 log: [1.         1.30103    1.47712125]\n",
            "base-2 log: [3.32192809 4.32192809 4.9068906 ]\n",
            "exponential: [2.20264658e+04 4.85165195e+08 1.06864746e+13]\n"
          ]
        }
      ]
    },
    {
      "cell_type": "code",
      "source": [
        "#programm 2_1\n",
        "import matplotlib.pyplot as plt\n",
        "people=['ann','brandon','chen','david','charan']\n",
        "age=[17,19,22,27,20]\n",
        "weight=[55,35,77,65,68]\n",
        "height=[160,170,155,165,180]"
      ],
      "metadata": {
        "id": "cEChaif1rVj9"
      },
      "execution_count": null,
      "outputs": []
    },
    {
      "cell_type": "code",
      "source": [
        "import matplotlib.pyplot as plt\n",
        "plt.scatter(age,weight)\n",
        "plt.title(\"relation btw age and weight of patients\")\n",
        "plt.ylabel(\"weight in meters\")\n",
        "plt.xlabel(\"age of patients in years\")\n",
        "plt.show()\n"
      ],
      "metadata": {
        "colab": {
          "base_uri": "https://localhost:8080/",
          "height": 245
        },
        "id": "GaWJna-osVS2",
        "outputId": "24c3759e-68d7-412c-f097-378ace35f971"
      },
      "execution_count": null,
      "outputs": [
        {
          "output_type": "error",
          "ename": "NameError",
          "evalue": "name 'age' is not defined",
          "traceback": [
            "\u001b[0;31m---------------------------------------------------------------------------\u001b[0m",
            "\u001b[0;31mNameError\u001b[0m                                 Traceback (most recent call last)",
            "\u001b[0;32m<ipython-input-1-958dd24e1d73>\u001b[0m in \u001b[0;36m<cell line: 2>\u001b[0;34m()\u001b[0m\n\u001b[1;32m      1\u001b[0m \u001b[0;32mimport\u001b[0m \u001b[0mmatplotlib\u001b[0m\u001b[0;34m.\u001b[0m\u001b[0mpyplot\u001b[0m \u001b[0;32mas\u001b[0m \u001b[0mplt\u001b[0m\u001b[0;34m\u001b[0m\u001b[0;34m\u001b[0m\u001b[0m\n\u001b[0;32m----> 2\u001b[0;31m \u001b[0mplt\u001b[0m\u001b[0;34m.\u001b[0m\u001b[0mscatter\u001b[0m\u001b[0;34m(\u001b[0m\u001b[0mage\u001b[0m\u001b[0;34m,\u001b[0m\u001b[0mweight\u001b[0m\u001b[0;34m)\u001b[0m\u001b[0;34m\u001b[0m\u001b[0;34m\u001b[0m\u001b[0m\n\u001b[0m\u001b[1;32m      3\u001b[0m \u001b[0mplt\u001b[0m\u001b[0;34m.\u001b[0m\u001b[0mtitle\u001b[0m\u001b[0;34m(\u001b[0m\u001b[0;34m\"relation btw age and weight of patients\"\u001b[0m\u001b[0;34m)\u001b[0m\u001b[0;34m\u001b[0m\u001b[0;34m\u001b[0m\u001b[0m\n\u001b[1;32m      4\u001b[0m \u001b[0mplt\u001b[0m\u001b[0;34m.\u001b[0m\u001b[0mylabel\u001b[0m\u001b[0;34m(\u001b[0m\u001b[0;34m\"weight in meters\"\u001b[0m\u001b[0;34m)\u001b[0m\u001b[0;34m\u001b[0m\u001b[0;34m\u001b[0m\u001b[0m\n\u001b[1;32m      5\u001b[0m \u001b[0mplt\u001b[0m\u001b[0;34m.\u001b[0m\u001b[0mxlabel\u001b[0m\u001b[0;34m(\u001b[0m\u001b[0;34m\"age of patients in years\"\u001b[0m\u001b[0;34m)\u001b[0m\u001b[0;34m\u001b[0m\u001b[0;34m\u001b[0m\u001b[0m\n",
            "\u001b[0;31mNameError\u001b[0m: name 'age' is not defined"
          ]
        }
      ]
    },
    {
      "cell_type": "code",
      "source": [
        "import matplotlib.pyplot as plt\n",
        "\n",
        "# Assuming you have 'people' and 'weight' defined somewhere in your code\n",
        "people = [\"Person1\", \"Person2\", \"Person3\", \"Person4\"]\n",
        "weight = [70, 65, 80, 75]\n",
        "\n",
        "plt.figure(figsize=(12, 4))\n",
        "plt.title(\"People's Weight in kgs\", fontsize=16, fontstyle=\"italic\")\n",
        "\n",
        "# Main plot function \"bar\"\n",
        "plt.bar(x=people, height=weight, width=0.6, color='orange', edgecolor='k', alpha=0.6)\n",
        "plt.xlabel(\"People\", fontsize=15)\n",
        "\n",
        "plt.xticks(fontsize=14, rotation=10)\n",
        "plt.yticks(fontsize=14)\n",
        "plt.ylabel(\"Weight (in kgs)\", fontsize=15)\n",
        "plt.show()\n"
      ],
      "metadata": {
        "colab": {
          "base_uri": "https://localhost:8080/",
          "height": 436
        },
        "id": "ZAkt4aMlCYdO",
        "outputId": "9ffc27b1-4a9c-4867-db30-cc121cf6b724"
      },
      "execution_count": null,
      "outputs": [
        {
          "output_type": "display_data",
          "data": {
            "text/plain": [
              "<Figure size 1200x400 with 1 Axes>"
            ],
            "image/png": "[encoded data removed]"
          },
          "metadata": {}
        }
      ]
    },
    {
      "cell_type": "code",
      "source": [
        "plt.figure(figsize=(12,7))\n",
        "plt.title(\"people's weight in kgs\",fontsize=14,fontstyle='italic')\n"
      ],
      "metadata": {
        "id": "o2wmZetcvLM9"
      },
      "execution_count": null,
      "outputs": []
    },
    {
      "cell_type": "code",
      "source": [
        "#part 3"
      ],
      "metadata": {
        "id": "WtLq_nIRpVAV"
      },
      "execution_count": null,
      "outputs": []
    },
    {
      "cell_type": "code",
      "source": [
        "import pandas as pd\n",
        "data_excel=pd.read_excel('/content/haha3.xlsx')\n",
        "\n",
        "data_csv=pd.read_csv('/content/haha.csv')\n",
        "\n",
        "data_tsv=pd.read_csv('/content/haha2.tsv',sep='/t')\n",
        "\n",
        "print(data_excel)\n",
        "print(data_csv)\n",
        "print(data_csv)"
      ],
      "metadata": {
        "colab": {
          "base_uri": "https://localhost:8080/"
        },
        "id": "S2IidiLHf63a",
        "outputId": "37faff2e-ca6f-4bc1-9c24-18c0216bba5c"
      },
      "execution_count": null,
      "outputs": [
        {
          "output_type": "stream",
          "name": "stdout",
          "text": [
            "          Table 1 Unnamed: 1  Unnamed: 2 Unnamed: 3\n",
            "0           Name        Age        Ht no      Place\n",
            "1       RajaRohan         19  2203A52126  Huzurabad\n",
            "2  Vamshi krishna         19  2203A52127     Ambala\n",
            "3         Avinash         19  2203A52227   Indurthi\n",
            "4    Gopi krishna         21  2203A52076     Parkal\n",
            "5          Sravan         19  2203A52099   Warangal\n",
            "            Name   Age        Ht no      Place  Unnamed: 4  Unnamed: 5\n",
            "0       RajaRohan    19  2203A52126  Huzurabad         NaN         NaN\n",
            "1  Vamshi krishna    19  2203A52127     Ambala         NaN         NaN\n",
            "2         Avinash    19  2203A52227   Indurthi         NaN         NaN\n",
            "3    Gopi krishna    21  2203A52076     Parkal         NaN         NaN\n",
            "4          Sravan    19  2203A52099   Warangal         NaN         NaN\n",
            "            Name   Age        Ht no      Place  Unnamed: 4  Unnamed: 5\n",
            "0       RajaRohan    19  2203A52126  Huzurabad         NaN         NaN\n",
            "1  Vamshi krishna    19  2203A52127     Ambala         NaN         NaN\n",
            "2         Avinash    19  2203A52227   Indurthi         NaN         NaN\n",
            "3    Gopi krishna    21  2203A52076     Parkal         NaN         NaN\n",
            "4          Sravan    19  2203A52099   Warangal         NaN         NaN\n"
          ]
        },
        {
          "output_type": "stream",
          "name": "stderr",
          "text": [
            "<ipython-input-7-cf442e3588e4>:6: ParserWarning: Falling back to the 'python' engine because the 'c' engine does not support regex separators (separators > 1 char and different from '\\s+' are interpreted as regex); you can avoid this warning by specifying engine='python'.\n",
            "  data_tsv=pd.read_csv('/content/haha2.tsv',sep='/t')\n"
          ]
        }
      ]
    },
    {
      "cell_type": "code",
      "source": [
        "#lab 2\n",
        "#part 1"
      ],
      "metadata": {
        "id": "5XIEY5F9pULI"
      },
      "execution_count": null,
      "outputs": []
    },
    {
      "cell_type": "code",
      "source": [
        "#bFS\n",
        "from queue import Queue\n",
        "\n",
        "graph = {0: [1, 3], 1: [0, 2, 3], 2: [4, 1, 5], 3: [4, 0, 1], 4: [2, 3, 5], 5: [4, 2], 6: []}\n",
        "print(\"The adjacency List representing the graph is:\")\n",
        "print(graph)\n",
        "\n",
        "\n",
        "def bfs(graph, source):\n",
        "    Q = Queue()\n",
        "    visited_vertices = set()\n",
        "    Q.put(source)\n",
        "    visited_vertices.update({0})\n",
        "    while not Q.empty():\n",
        "        vertex = Q.get()\n",
        "        print(vertex, end=\"-->\")\n",
        "        for u in graph[vertex]:\n",
        "            if u not in visited_vertices:\n",
        "                Q.put(u)\n",
        "                visited_vertices.update({u})\n",
        "\n",
        "print(\"BFS traversal of graph with source 0 is:\")\n",
        "bfs(graph, 0)"
      ],
      "metadata": {
        "colab": {
          "base_uri": "https://localhost:8080/"
        },
        "id": "9BjQrHYFpi9C",
        "outputId": "9204ca96-6fe2-48e3-c2cc-45ee084f139c"
      },
      "execution_count": null,
      "outputs": [
        {
          "output_type": "stream",
          "name": "stdout",
          "text": [
            "The adjacency List representing the graph is:\n",
            "{0: [1, 3], 1: [0, 2, 3], 2: [4, 1, 5], 3: [4, 0, 1], 4: [2, 3, 5], 5: [4, 2], 6: []}\n",
            "BFS traversal of graph with source 0 is:\n",
            "0-->1-->3-->2-->4-->5-->"
          ]
        }
      ]
    },
    {
      "cell_type": "code",
      "source": [
        "from queue import Queue\n",
        "\n",
        "graph = {'S': ['A', 'D'], 'A': ['S', 'B', 'D'], 'B': ['A',  'C'], 'C': ['A', 'G'], 'D': ['S','E','F'], 'E': ['D'], 'F': ['D','G'], 'G': [ 'c', 'F']}\n",
        "print(\"The adjacency List representing the graph is:\")\n",
        "print(graph)\n",
        "\n",
        "\n",
        "def bfs(graph, source):\n",
        "    Q = Queue()\n",
        "    visited_vertices = set()\n",
        "    Q.put(source)\n",
        "    visited_vertices.update({'S'})\n",
        "    while not Q.empty():\n",
        "        vertex = Q.get()\n",
        "        print(vertex, end=\"-->\")\n",
        "        for u in graph[vertex]:\n",
        "            if u not in visited_vertices:\n",
        "                Q.put(u)\n",
        "                visited_vertices.update({u})\n",
        "\n",
        "print(\"BFS traversal of graph with source 5 is:\")\n",
        "bfs(graph, 'S')"
      ],
      "metadata": {
        "colab": {
          "base_uri": "https://localhost:8080/",
          "height": 401
        },
        "id": "ndklB0YEqQcd",
        "outputId": "3a51a2e5-d878-4253-93df-79e035b27441"
      },
      "execution_count": null,
      "outputs": [
        {
          "output_type": "stream",
          "name": "stdout",
          "text": [
            "The adjacency List representing the graph is:\n",
            "{'S': ['A', 'D'], 'A': ['S', 'B', 'D'], 'B': ['A', 'C'], 'C': ['A', 'G'], 'D': ['S', 'E', 'F'], 'E': ['D'], 'F': ['D', 'G'], 'G': ['c', 'F']}\n",
            "BFS traversal of graph with source 5 is:\n",
            "S-->A-->D-->B-->E-->F-->C-->G-->c-->"
          ]
        },
        {
          "output_type": "error",
          "ename": "KeyError",
          "evalue": "'c'",
          "traceback": [
            "\u001b[0;31m---------------------------------------------------------------------------\u001b[0m",
            "\u001b[0;31mKeyError\u001b[0m                                  Traceback (most recent call last)",
            "\u001b[0;32m<ipython-input-17-f1b0ae3a5188>\u001b[0m in \u001b[0;36m<cell line: 22>\u001b[0;34m()\u001b[0m\n\u001b[1;32m     20\u001b[0m \u001b[0;34m\u001b[0m\u001b[0m\n\u001b[1;32m     21\u001b[0m \u001b[0mprint\u001b[0m\u001b[0;34m(\u001b[0m\u001b[0;34m\"BFS traversal of graph with source 5 is:\"\u001b[0m\u001b[0;34m)\u001b[0m\u001b[0;34m\u001b[0m\u001b[0;34m\u001b[0m\u001b[0m\n\u001b[0;32m---> 22\u001b[0;31m \u001b[0mbfs\u001b[0m\u001b[0;34m(\u001b[0m\u001b[0mgraph\u001b[0m\u001b[0;34m,\u001b[0m \u001b[0;34m'S'\u001b[0m\u001b[0;34m)\u001b[0m\u001b[0;34m\u001b[0m\u001b[0;34m\u001b[0m\u001b[0m\n\u001b[0m",
            "\u001b[0;32m<ipython-input-17-f1b0ae3a5188>\u001b[0m in \u001b[0;36mbfs\u001b[0;34m(graph, source)\u001b[0m\n\u001b[1;32m     14\u001b[0m         \u001b[0mvertex\u001b[0m \u001b[0;34m=\u001b[0m \u001b[0mQ\u001b[0m\u001b[0;34m.\u001b[0m\u001b[0mget\u001b[0m\u001b[0;34m(\u001b[0m\u001b[0;34m)\u001b[0m\u001b[0;34m\u001b[0m\u001b[0;34m\u001b[0m\u001b[0m\n\u001b[1;32m     15\u001b[0m         \u001b[0mprint\u001b[0m\u001b[0;34m(\u001b[0m\u001b[0mvertex\u001b[0m\u001b[0;34m,\u001b[0m \u001b[0mend\u001b[0m\u001b[0;34m=\u001b[0m\u001b[0;34m\"-->\"\u001b[0m\u001b[0;34m)\u001b[0m\u001b[0;34m\u001b[0m\u001b[0;34m\u001b[0m\u001b[0m\n\u001b[0;32m---> 16\u001b[0;31m         \u001b[0;32mfor\u001b[0m \u001b[0mu\u001b[0m \u001b[0;32min\u001b[0m \u001b[0mgraph\u001b[0m\u001b[0;34m[\u001b[0m\u001b[0mvertex\u001b[0m\u001b[0;34m]\u001b[0m\u001b[0;34m:\u001b[0m\u001b[0;34m\u001b[0m\u001b[0;34m\u001b[0m\u001b[0m\n\u001b[0m\u001b[1;32m     17\u001b[0m             \u001b[0;32mif\u001b[0m \u001b[0mu\u001b[0m \u001b[0;32mnot\u001b[0m \u001b[0;32min\u001b[0m \u001b[0mvisited_vertices\u001b[0m\u001b[0;34m:\u001b[0m\u001b[0;34m\u001b[0m\u001b[0;34m\u001b[0m\u001b[0m\n\u001b[1;32m     18\u001b[0m                 \u001b[0mQ\u001b[0m\u001b[0;34m.\u001b[0m\u001b[0mput\u001b[0m\u001b[0;34m(\u001b[0m\u001b[0mu\u001b[0m\u001b[0;34m)\u001b[0m\u001b[0;34m\u001b[0m\u001b[0;34m\u001b[0m\u001b[0m\n",
            "\u001b[0;31mKeyError\u001b[0m: 'c'"
          ]
        }
      ]
    },
    {
      "cell_type": "code",
      "source": [
        "#DFS\n",
        "graph1 = {\n",
        "    'A' : ['B','S'],\n",
        "    'B' : ['A'],\n",
        "    'C' : ['D','E','F','S'],\n",
        "    'D' : ['C'],\n",
        "    'E' : ['C','H'],\n",
        "    'F' : ['C','G'],\n",
        "    'G' : ['F','S'],\n",
        "    'H' : ['E','G'],\n",
        "    'S' : ['A','C','G']\n",
        "}\n",
        "\n",
        "def dfs(graph, node, visited):\n",
        "    if node not in visited:\n",
        "        visited.append(node)\n",
        "        for k in graph[node]:\n",
        "            dfs(graph,k, visited)\n",
        "    return visited\n",
        "\n",
        "visited = dfs(graph1,'D', [])\n",
        "print(visited)"
      ],
      "metadata": {
        "id": "axyY17dbu665",
        "colab": {
          "base_uri": "https://localhost:8080/"
        },
        "outputId": "69d59558-8f72-48dd-fd9c-ecdbd6df5788"
      },
      "execution_count": null,
      "outputs": [
        {
          "output_type": "stream",
          "name": "stdout",
          "text": [
            "['D', 'C', 'E', 'H', 'G', 'F', 'S', 'A', 'B']\n"
          ]
        }
      ]
    },
    {
      "cell_type": "code",
      "source": [
        "from collections import defaultdict, deque\n",
        "def bfs(graph, start, end):\n",
        "    queue = deque([(start, [start])])\n",
        "    visited = set([start])\n",
        "    while queue:\n",
        "        (vertex, path) = queue.popleft()\n",
        "        for neighbor in graph[vertex]:\n",
        "            if neighbor == end:\n",
        "                return path + [neighbor]\n",
        "            elif neighbor not in visited:\n",
        "                visited.add(neighbor)\n",
        "                queue.append((neighbor, path + [neighbor]))\n",
        "    return None\n",
        "graph = defaultdict(dict)\n",
        "graph['Trivandrum'] = {'TM': 1800}\n",
        "graph['TM'] = {'YS': 700, 'GOA': 1800}\n",
        "graph['YS'] = {'HYD': 2001}\n",
        "graph['GOA'] = {'NAG': 750}\n",
        "graph['HYD'] = {'WR': 120}\n",
        "graph['NAG'] = {'JH': 780}\n",
        "graph['WR'] = {'BS': 510}\n",
        "graph['JH'] = {'KH': 512}\n",
        "graph['BS'] = {'BBS': 470}\n",
        "graph['BBS'] = {'KH': 300}\n",
        "graph['KH'] = {'HWH': 150}\n",
        "graph['HWH'] = {'Kolkata': 25}\n",
        "graph['Kolkata'] = {}\n",
        "\n",
        "start = 'Trivandrum'\n",
        "end = 'Kolkata'\n",
        "\n",
        "path = bfs(graph, start, end)\n",
        "if path:\n",
        "    print(f\"The path from {start} to {end} is: {' -> '.join(path)}\")\n",
        "else:\n",
        "    print(f\"No path found from {start} to {end}\")\n"
      ],
      "metadata": {
        "colab": {
          "base_uri": "https://localhost:8080/"
        },
        "id": "9tAb6Wgsi79J",
        "outputId": "c91588a7-bea9-4135-922f-e28f0dda6295"
      },
      "execution_count": null,
      "outputs": [
        {
          "output_type": "stream",
          "name": "stdout",
          "text": [
            "The path from Trivandrum to Kolkata is: Trivandrum -> TM -> GOA -> NAG -> JH -> KH -> HWH -> Kolkata\n"
          ]
        }
      ]
    },
    {
      "cell_type": "code",
      "source": [
        "#DFS\n",
        "from collections import defaultdict\n",
        "\n",
        "def dfs(graph, start, end, visited=None, path=None, distance=0):\n",
        "    if visited is None:\n",
        "        visited = set()\n",
        "    if path is None:\n",
        "        path = [start]\n",
        "    visited.add(start)\n",
        "    if start == end:\n",
        "        return path, distance\n",
        "    for neighbor, weight in graph[start].items():\n",
        "        if neighbor not in visited:\n",
        "            new_path = path + [neighbor]\n",
        "            new_distance = distance + weight\n",
        "            result = dfs(graph, neighbor, end, visited, new_path, new_distance)\n",
        "            if result is not None:\n",
        "                return result\n",
        "    return None\n",
        "\n",
        "# Example usage\n",
        "graph = defaultdict(dict)\n",
        "graph['Trivandrum'] = {'TM': 1800}\n",
        "graph['TM'] = {'YS': 700, 'GOA': 1800}\n",
        "graph['YS'] = {'HYD': 2001}\n",
        "graph['GOA'] = {'NAG': 750}\n",
        "graph['HYD'] = {'WR': 120}\n",
        "graph['NAG'] = {'JH': 780}\n",
        "graph['WR'] = {'BS': 510}\n",
        "graph['JH'] = {'KH': 512}\n",
        "graph['BS'] = {'BBS': 470}\n",
        "graph['BBS'] = {'KH': 300}\n",
        "graph['KH'] = {'HWH': 150}\n",
        "graph['HWH'] = {'Kolkata': 25}\n",
        "graph['Kolkata'] = {}\n",
        "\n",
        "start = 'Trivandrum'\n",
        "end = 'Kolkata'\n",
        "\n",
        "result = dfs(graph, start, end)\n",
        "if result:\n",
        "    path, distance = result\n",
        "    print(f\"The path from {start} to {end} is: {' -> '.join(path)}\")\n",
        "    print(f\"The total distance traveled is {distance} km.\")\n",
        "else:\n",
        "    print(f\"No path found from {start} to {end}\")\n"
      ],
      "metadata": {
        "colab": {
          "base_uri": "https://localhost:8080/"
        },
        "id": "Sf15k-N8sC_i",
        "outputId": "edb43726-f50e-4ed6-932c-72d393d5c45b"
      },
      "execution_count": null,
      "outputs": [
        {
          "output_type": "stream",
          "name": "stdout",
          "text": [
            "The path from Trivandrum to Kolkata is: Trivandrum -> TM -> YS -> HYD -> WR -> BS -> BBS -> KH -> HWH -> Kolkata\n",
            "The total distance traveled is 6076 km.\n"
          ]
        }
      ]
    },
    {
      "cell_type": "code",
      "source": [
        "#DFS\n",
        "from collections import defaultdict\n",
        "\n",
        "def dfs(graph, start, end, visited=None, path=None, distance=0):\n",
        "    if visited is None:\n",
        "        visited = set()\n",
        "    if path is None:\n",
        "        path = [start]\n",
        "    visited.add(start)\n",
        "    if start == end:\n",
        "        return path, distance\n",
        "    for neighbor, weight in graph[start].items():\n",
        "        if neighbor not in visited:\n",
        "            new_path = path + [neighbor]\n",
        "            new_distance = distance + weight\n",
        "            result = dfs(graph, neighbor, end, visited, new_path, new_distance)\n",
        "            if result is not None:\n",
        "                return result\n",
        "    return None\n",
        "\n",
        "# Example usage\n",
        "graph = defaultdict(dict)\n",
        "graph['A'] = {'A': 2,'AB':4,'CD':3}\n",
        "graph['AB'] = {'B': 6}\n",
        "graph['CD'] = {'DE': 2,'CD2':1}\n",
        "graph['B'] = {'H': 3}\n",
        "graph['DE'] = {'CD': 5,'F':1}\n",
        "graph['CD2'] = {'G':1}\n",
        "graph['H'] = {'H': 1,'I':1}\n",
        "graph['F'] = {'G': 6}\n",
        "graph['I'] = {'X': 0.5,'T':0.5}\n",
        "graph['X'] = {}\n",
        "graph['T'] = {'G': 4}\n",
        "graph['G'] = {}\n",
        "\n",
        "\n",
        "start = 'A'\n",
        "end = 'G'\n",
        "\n",
        "result = dfs(graph, start, end)\n",
        "if result:\n",
        "    path, distance = result\n",
        "    print(f\"The path from {start} to {end} is: {' -> '.join(path)}\")\n",
        "    print(f\"The total distance traveled is {distance} km.\")\n",
        "else:\n",
        "    print(f\"No path found from {start} to {end}\")\n"
      ],
      "metadata": {
        "colab": {
          "base_uri": "https://localhost:8080/"
        },
        "id": "fxNOU73vwr4A",
        "outputId": "39522eef-d10b-4968-f59f-26dbed81f0bf"
      },
      "execution_count": null,
      "outputs": [
        {
          "output_type": "stream",
          "name": "stdout",
          "text": [
            "The path from A to G is: A -> AB -> B -> H -> I -> T -> G\n",
            "The total distance traveled is 18.5 km.\n"
          ]
        }
      ]
    },
    {
      "cell_type": "code",
      "source": [],
      "metadata": {
        "id": "6gbnqTMwnAMl"
      },
      "execution_count": null,
      "outputs": []
    }
  ]
}